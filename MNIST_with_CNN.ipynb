{
  "cells": [
    {
      "cell_type": "markdown",
      "metadata": {
        "id": "5qqJjXeFxkxK"
      },
      "source": [
        "# MNIST Code Along with CNN\n",
        "  <a href='https://en.wikipedia.org/wiki/MNIST_database'></a> let's work the same data with a <a href='https://en.wikipedia.org/wiki/Convolutional_neural_network'>Convolutional Neural Network</a> (CNN).\n",
        "Make sure to watch the theory lectures! You'll want to be comfortable with:\n",
        "* convolutional layers\n",
        "* filters/kernels\n",
        "* pooling\n",
        "* depth, stride and zero-padding\n",
        "\n",
        "Note that in this exercise there is no need to flatten the MNIST data, as a CNN expects 2-dimensional data."
      ]
    },
    {
      "cell_type": "code",
      "source": [
        "pip install torchvision"
      ],
      "metadata": {
        "colab": {
          "base_uri": "https://localhost:8080/"
        },
        "id": "V6dJ49t3x5PU",
        "outputId": "b42a108c-fbdc-4634-843a-cfbe28895f25"
      },
      "execution_count": null,
      "outputs": [
        {
          "output_type": "stream",
          "name": "stdout",
          "text": [
            "Requirement already satisfied: torchvision in /usr/local/lib/python3.10/dist-packages (0.16.0+cu118)\n",
            "Requirement already satisfied: numpy in /usr/local/lib/python3.10/dist-packages (from torchvision) (1.23.5)\n",
            "Requirement already satisfied: requests in /usr/local/lib/python3.10/dist-packages (from torchvision) (2.31.0)\n",
            "Requirement already satisfied: torch==2.1.0 in /usr/local/lib/python3.10/dist-packages (from torchvision) (2.1.0+cu118)\n",
            "Requirement already satisfied: pillow!=8.3.*,>=5.3.0 in /usr/local/lib/python3.10/dist-packages (from torchvision) (9.4.0)\n",
            "Requirement already satisfied: filelock in /usr/local/lib/python3.10/dist-packages (from torch==2.1.0->torchvision) (3.13.1)\n",
            "Requirement already satisfied: typing-extensions in /usr/local/lib/python3.10/dist-packages (from torch==2.1.0->torchvision) (4.5.0)\n",
            "Requirement already satisfied: sympy in /usr/local/lib/python3.10/dist-packages (from torch==2.1.0->torchvision) (1.12)\n",
            "Requirement already satisfied: networkx in /usr/local/lib/python3.10/dist-packages (from torch==2.1.0->torchvision) (3.2.1)\n",
            "Requirement already satisfied: jinja2 in /usr/local/lib/python3.10/dist-packages (from torch==2.1.0->torchvision) (3.1.2)\n",
            "Requirement already satisfied: fsspec in /usr/local/lib/python3.10/dist-packages (from torch==2.1.0->torchvision) (2023.6.0)\n",
            "Requirement already satisfied: triton==2.1.0 in /usr/local/lib/python3.10/dist-packages (from torch==2.1.0->torchvision) (2.1.0)\n",
            "Requirement already satisfied: charset-normalizer<4,>=2 in /usr/local/lib/python3.10/dist-packages (from requests->torchvision) (3.3.2)\n",
            "Requirement already satisfied: idna<4,>=2.5 in /usr/local/lib/python3.10/dist-packages (from requests->torchvision) (3.4)\n",
            "Requirement already satisfied: urllib3<3,>=1.21.1 in /usr/local/lib/python3.10/dist-packages (from requests->torchvision) (2.0.7)\n",
            "Requirement already satisfied: certifi>=2017.4.17 in /usr/local/lib/python3.10/dist-packages (from requests->torchvision) (2023.7.22)\n",
            "Requirement already satisfied: MarkupSafe>=2.0 in /usr/local/lib/python3.10/dist-packages (from jinja2->torch==2.1.0->torchvision) (2.1.3)\n",
            "Requirement already satisfied: mpmath>=0.19 in /usr/local/lib/python3.10/dist-packages (from sympy->torch==2.1.0->torchvision) (1.3.0)\n"
          ]
        }
      ]
    },
    {
      "cell_type": "markdown",
      "metadata": {
        "id": "I0gOt6sixkxL"
      },
      "source": [
        "## Perform standard imports"
      ]
    },
    {
      "cell_type": "code",
      "execution_count": null,
      "metadata": {
        "id": "ZiYKA7vwxkxL"
      },
      "outputs": [],
      "source": [
        "import torch\n",
        "import torch.nn as nn\n",
        "import torch.nn.functional as F\n",
        "from torch.utils.data import DataLoader\n",
        "from torchvision import datasets, transforms\n",
        "from torchvision.utils import make_grid\n",
        "\n",
        "import numpy as np\n",
        "import pandas as pd\n",
        "from sklearn.metrics import confusion_matrix\n",
        "import matplotlib.pyplot as plt\n",
        "%matplotlib inline"
      ]
    },
    {
      "cell_type": "markdown",
      "metadata": {
        "id": "nBpZ5SyaxkxL"
      },
      "source": [
        "## Load the MNIST dataset\n",
        "PyTorch makes the MNIST train and test datasets available through <a href='https://pytorch.org/docs/stable/torchvision/index.html'><tt><strong>torchvision</strong></tt></a>. The first time they're called, the datasets will be downloaded onto your computer to the path specified. From that point, torchvision will always look for a local copy before attempting another download.\n",
        "\n",
        "Refer to the previous section for explanations of transformations, batch sizes and <a href='https://pytorch.org/docs/stable/data.html#torch.utils.data.DataLoader'><tt><strong>DataLoader</strong></tt></a>."
      ]
    },
    {
      "cell_type": "code",
      "execution_count": null,
      "metadata": {
        "colab": {
          "base_uri": "https://localhost:8080/"
        },
        "id": "cOVtdy8OxkxM",
        "outputId": "9c642f75-c165-43e0-d692-d6f0e53126b7"
      },
      "outputs": [
        {
          "output_type": "stream",
          "name": "stdout",
          "text": [
            "Downloading http://yann.lecun.com/exdb/mnist/train-images-idx3-ubyte.gz\n",
            "Downloading http://yann.lecun.com/exdb/mnist/train-images-idx3-ubyte.gz to ../Data/MNIST/raw/train-images-idx3-ubyte.gz\n"
          ]
        },
        {
          "output_type": "stream",
          "name": "stderr",
          "text": [
            "100%|██████████| 9912422/9912422 [00:00<00:00, 71259373.24it/s]\n"
          ]
        },
        {
          "output_type": "stream",
          "name": "stdout",
          "text": [
            "Extracting ../Data/MNIST/raw/train-images-idx3-ubyte.gz to ../Data/MNIST/raw\n",
            "\n",
            "Downloading http://yann.lecun.com/exdb/mnist/train-labels-idx1-ubyte.gz\n",
            "Downloading http://yann.lecun.com/exdb/mnist/train-labels-idx1-ubyte.gz to ../Data/MNIST/raw/train-labels-idx1-ubyte.gz\n"
          ]
        },
        {
          "output_type": "stream",
          "name": "stderr",
          "text": [
            "100%|██████████| 28881/28881 [00:00<00:00, 78455760.25it/s]"
          ]
        },
        {
          "output_type": "stream",
          "name": "stdout",
          "text": [
            "Extracting ../Data/MNIST/raw/train-labels-idx1-ubyte.gz to ../Data/MNIST/raw\n",
            "\n",
            "Downloading http://yann.lecun.com/exdb/mnist/t10k-images-idx3-ubyte.gz\n"
          ]
        },
        {
          "output_type": "stream",
          "name": "stderr",
          "text": [
            "\n"
          ]
        },
        {
          "output_type": "stream",
          "name": "stdout",
          "text": [
            "Downloading http://yann.lecun.com/exdb/mnist/t10k-images-idx3-ubyte.gz to ../Data/MNIST/raw/t10k-images-idx3-ubyte.gz\n"
          ]
        },
        {
          "output_type": "stream",
          "name": "stderr",
          "text": [
            "100%|██████████| 1648877/1648877 [00:00<00:00, 23057121.60it/s]"
          ]
        },
        {
          "output_type": "stream",
          "name": "stdout",
          "text": [
            "Extracting ../Data/MNIST/raw/t10k-images-idx3-ubyte.gz to ../Data/MNIST/raw\n"
          ]
        },
        {
          "output_type": "stream",
          "name": "stderr",
          "text": [
            "\n"
          ]
        },
        {
          "output_type": "stream",
          "name": "stdout",
          "text": [
            "\n",
            "Downloading http://yann.lecun.com/exdb/mnist/t10k-labels-idx1-ubyte.gz\n",
            "Downloading http://yann.lecun.com/exdb/mnist/t10k-labels-idx1-ubyte.gz to ../Data/MNIST/raw/t10k-labels-idx1-ubyte.gz\n"
          ]
        },
        {
          "output_type": "stream",
          "name": "stderr",
          "text": [
            "100%|██████████| 4542/4542 [00:00<00:00, 13312738.48it/s]"
          ]
        },
        {
          "output_type": "stream",
          "name": "stdout",
          "text": [
            "Extracting ../Data/MNIST/raw/t10k-labels-idx1-ubyte.gz to ../Data/MNIST/raw\n",
            "\n"
          ]
        },
        {
          "output_type": "stream",
          "name": "stderr",
          "text": [
            "\n"
          ]
        }
      ],
      "source": [
        "transform = transforms.ToTensor()\n",
        "\n",
        "train_data = datasets.MNIST(root='../Data', train=True, download=True, transform=transform)\n",
        "test_data = datasets.MNIST(root='../Data', train=False, download=True, transform=transform)"
      ]
    },
    {
      "cell_type": "code",
      "execution_count": null,
      "metadata": {
        "colab": {
          "base_uri": "https://localhost:8080/"
        },
        "id": "ThZMPjBHxkxM",
        "outputId": "32df1e42-2911-459a-ffb1-817b7462f659"
      },
      "outputs": [
        {
          "output_type": "execute_result",
          "data": {
            "text/plain": [
              "Dataset MNIST\n",
              "    Number of datapoints: 60000\n",
              "    Root location: ../Data\n",
              "    Split: Train\n",
              "    StandardTransform\n",
              "Transform: ToTensor()"
            ]
          },
          "metadata": {},
          "execution_count": 4
        }
      ],
      "source": [
        "train_data"
      ]
    },
    {
      "cell_type": "code",
      "execution_count": null,
      "metadata": {
        "colab": {
          "base_uri": "https://localhost:8080/"
        },
        "id": "OgYyG1ZbxkxM",
        "outputId": "acd87b03-4808-453e-8153-9b7535795c61"
      },
      "outputs": [
        {
          "output_type": "execute_result",
          "data": {
            "text/plain": [
              "Dataset MNIST\n",
              "    Number of datapoints: 10000\n",
              "    Root location: ../Data\n",
              "    Split: Test\n",
              "    StandardTransform\n",
              "Transform: ToTensor()"
            ]
          },
          "metadata": {},
          "execution_count": 5
        }
      ],
      "source": [
        "test_data"
      ]
    },
    {
      "cell_type": "markdown",
      "metadata": {
        "id": "PBXoRJuPxkxN"
      },
      "source": [
        "### Create loaders\n",
        "When working with images, we want relatively small batches; a batch size of 4 is not uncommon."
      ]
    },
    {
      "cell_type": "code",
      "execution_count": null,
      "metadata": {
        "id": "s3wKS5klxkxN"
      },
      "outputs": [],
      "source": [
        "train_loader = DataLoader(train_data, batch_size=10, shuffle=True)\n",
        "test_loader = DataLoader(test_data, batch_size=10, shuffle=False)"
      ]
    },
    {
      "cell_type": "markdown",
      "metadata": {
        "id": "31W9Nv8BxkxN"
      },
      "source": [
        "## Define a convolutional model\n",
        "In the previous section we used only fully connected layers, with an input layer of 784 (our flattened 28x28 images), hidden layers of 120 and 84 neurons, and an output size representing 10 possible digits.\n",
        "\n",
        "This time we'll employ two convolutional layers and two pooling layers before feeding data through fully connected hidden layers to our output. The model follows CONV/RELU/POOL/CONV/RELU/POOL/FC/RELU/FC."
      ]
    },
    {
      "cell_type": "markdown",
      "metadata": {
        "id": "IhwT70wZxkxN"
      },
      "source": [
        "<div class=\"alert alert-info\"><strong>Let's walk through the steps we're about to take.</strong><br>\n",
        "\n",
        "1. Extend the base Module class:\n",
        "   \n",
        "<tt><font color=black>class ConvolutionalNetwork(nn.Module):<br>\n",
        "&nbsp;&nbsp;&nbsp;&nbsp;def \\_\\_init\\_\\_(self):<br>\n",
        "&nbsp;&nbsp;&nbsp;&nbsp;&nbsp;&nbsp;&nbsp;&nbsp;super().\\_\\_init\\_\\_()</font></tt><br>\n",
        "\n",
        "2. Set up the convolutional layers with <a href='https://pytorch.org/docs/stable/nn.html#conv2d'><tt><strong>torch.nn.Conv2d()</strong></tt></a><br><br>The first layer has one input channel (the grayscale color channel). We'll assign 6 output channels for feature extraction. We'll set our kernel size to 3 to make a 3x3 filter, and set the step size to 1.<br>\n",
        "<tt><font color=black>&nbsp;&nbsp;&nbsp;&nbsp;self.conv1 = nn.Conv2d(1, 6, 3, 1)</font></tt><br>\n",
        "The second layer will take our 6 input channels and deliver 16 output channels.<br>\n",
        "<tt><font color=black>&nbsp;&nbsp;&nbsp;&nbsp;self.conv2 = nn.Conv2d(6, 16, 3, 1)</font></tt><br><br>\n",
        "\n",
        "3. Set up the fully connected layers with <a href='https://pytorch.org/docs/stable/nn.html#linear'><tt><strong>torch.nn.Linear()</strong></tt></a>.<br><br>The input size of (5x5x16) is determined by the effect of our kernels on the input image size. A 3x3 filter applied to a 28x28 image leaves a 1-pixel edge on all four sides. In one layer the size changes from 28x28 to 26x26. We could address this with zero-padding, but since an MNIST image is mostly black at the edges, we should be safe ignoring these pixels. We'll apply the kernel twice, and apply pooling layers twice, so our resulting output will be\n",
        "$\\;(((28-2)/2)-2)/2 = 5.5\\;$ which rounds down to 5 pixels per side.<br>\n",
        "<tt><font color=black>&nbsp;&nbsp;&nbsp;&nbsp;self.fc1 = nn.Linear(5\\*5\\*16, 120)</font></tt><br>\n",
        "<tt><font color=black>&nbsp;&nbsp;&nbsp;&nbsp;self.fc2 = nn.Linear(120, 84)</font></tt><br>\n",
        "<tt><font color=black>&nbsp;&nbsp;&nbsp;&nbsp;self.fc3 = nn.Linear(84, 10)</font></tt><br>\n",
        "See below for a more detailed look at this step.<br><br>\n",
        "\n",
        "4. Define the forward method.<br><br>Activations can be applied to the convolutions in one line using <a href='https://pytorch.org/docs/stable/nn.html#id27'><tt><strong>F.relu()</strong></tt></a> and pooling is done using <a href='https://pytorch.org/docs/stable/nn.html#maxpool2d'><tt><strong>F.max_pool2d()</strong></tt></a><br>\n",
        "<tt><font color=black>def forward(self, X):<br>\n",
        "&nbsp;&nbsp;&nbsp;&nbsp;X = F.relu(self.conv1(X))<br>\n",
        "&nbsp;&nbsp;&nbsp;&nbsp;X = F.max_pool2d(X, 2, 2)<br>\n",
        "&nbsp;&nbsp;&nbsp;&nbsp;X = F.relu(self.conv2(X))<br>\n",
        "&nbsp;&nbsp;&nbsp;&nbsp;X = F.max_pool2d(X, 2, 2)<br>\n",
        "</font></tt>Flatten the data for the fully connected layers:<br><tt><font color=black>\n",
        "&nbsp;&nbsp;&nbsp;&nbsp;X = X.view(-1, 5\\*5\\*16)<br>\n",
        "&nbsp;&nbsp;&nbsp;&nbsp;X = F.relu(self.fc1(X))<br>\n",
        "&nbsp;&nbsp;&nbsp;&nbsp;X = self.fc2(X)<br>\n",
        "&nbsp;&nbsp;&nbsp;&nbsp;return F.log_softmax(X, dim=1)</font></tt>\n",
        "</div>"
      ]
    },
    {
      "cell_type": "markdown",
      "metadata": {
        "id": "jItof2UxxkxN"
      },
      "source": [
        "<div class=\"alert alert-danger\"><strong>Breaking down the convolutional layers</strong> (this code is for illustration purposes only.)</div>"
      ]
    },
    {
      "cell_type": "code",
      "execution_count": null,
      "metadata": {
        "id": "3pFGRAjLxkxO"
      },
      "outputs": [],
      "source": [
        "# Define layers\n",
        "#1 COLOR CHANNEL, 6 FILTERS (OUTPUT CHANNELS IN CONVOLUTIONAL LAYER), 3 by 3 KERNAL , STRIDE=1\n",
        "#6 filters -->pooling --> conv2     So even after pooling, we're still going to have\n",
        "#those six filters, although there'll be a little smaller being pooled. Next check 2nd layer\n",
        "conv1 = nn.Conv2d(1, 6, 3, 1)#One that takes in the direct image input is going to be expanded so that it has\n",
        "#the six filters and thats going into some pooling layers and then feeding into convolution\n",
        "#layer number two. So even after pooling we're still going to have those six filters, although there'll be a little smaller after\n",
        "#being pooled\n",
        "\n",
        "\n",
        "#first layer has one input channel, the reason is because we\n",
        "#are dealing with gray scale  images later on, we can expand on this for color images.\n",
        "#So we have convolutional 2D its for one gray scale channel, thats our one input channel\n",
        "\n",
        "\n",
        "#Step2 : then we assign 6 output channels for feature extraction, and these are known as feature maps, Essentially\n",
        "#the filters that the convolutional neural network will figure out for us. And then since we have six of those, the next thing we\n",
        "#need to say is, well,  how big are each of those.\n",
        "\n",
        "#And 3 represents kernal size comes into play. So we will say its three so we have\n",
        "#a 3 by 3 filter.\n",
        "\n",
        "#And then this last one is the step size to one. So if you take a look at shift\n",
        "#tab here again one more time and we expand on this, we have essentially our stepsize or our stride\n",
        "#How big are we going....     And also you can also do thing like padding\n",
        "\n",
        "#this is another convolutional layer going to be with different numbers?\n",
        "#Well, this convolutional layer is going to end up taking the result of the first\n",
        "#convolutional layer after it's been passed through a pooling function.\n",
        "#So eventually we'see when we actually build out our network, this convolution layer\n",
        "#the first one that takes in the direct image input is going to be expanded so that  it has\n",
        "#six filters and\n",
        "conv2 = nn.Conv2d(6, 16, 3, 1)#that how first 6 comes from, So this convolutional layer, we dicided kind of arbitary that there will\n",
        "#be six filters, you can definetly play around with number of filters, recall more outputs channels or more image\n",
        "#kernels / filters the longer the trianing time will take. So here we have 6, that's\n",
        "#Were this first six comes from and then 16 kind of another arbitory choice. So if we start defining this,we have those six\n",
        "#input filters and that was from convolution layer number one. and then we can decide , well how many filters should convolutional layer number  2 expand to.\n",
        "#So i will go ahead and say 16 filters, again this is kind of an arbitary choice.\n",
        "#So its an arbitary choice for this number of six filters and an arbitary choice for these 16 filters, Hopefully you can experiment with them\n",
        "#and see what is the optimal amount of filters..\n",
        "#And next we need to decide , what kernel size should we use? 3 by 3\n",
        "#And finally what is stride here? stride  =1"
      ]
    },
    {
      "cell_type": "code",
      "execution_count": null,
      "metadata": {
        "id": "qjPATZHMxkxO"
      },
      "outputs": [],
      "source": [
        "# Grab the first MNIST record\n",
        "for i, (X_train, y_train) in enumerate(train_data):\n",
        "    break"
      ]
    },
    {
      "cell_type": "code",
      "execution_count": null,
      "metadata": {
        "colab": {
          "base_uri": "https://localhost:8080/"
        },
        "id": "mB8gD6p6xkxO",
        "outputId": "25862723-f642-486a-a892-33eac1098fa9"
      },
      "outputs": [
        {
          "output_type": "stream",
          "name": "stdout",
          "text": [
            "torch.Size([1, 1, 28, 28])\n"
          ]
        }
      ],
      "source": [
        "# Create a rank-4 tensor to be passed into the model\n",
        "# (train_loader will have done this already)\n",
        "x = X_train.view(1,1,28,28)\n",
        "print(x.shape)"
      ]
    },
    {
      "cell_type": "code",
      "execution_count": null,
      "metadata": {
        "colab": {
          "base_uri": "https://localhost:8080/"
        },
        "id": "u6U3J6SLxkxO",
        "outputId": "8543c752-4a61-49e7-a64a-2a2874d99229"
      },
      "outputs": [
        {
          "output_type": "stream",
          "name": "stdout",
          "text": [
            "torch.Size([1, 6, 26, 26])\n"
          ]
        }
      ],
      "source": [
        "# Perform the first convolution/activation\n",
        "x = F.relu(conv1(x))\n",
        "print(x.shape)"
      ]
    },
    {
      "cell_type": "code",
      "execution_count": null,
      "metadata": {
        "colab": {
          "base_uri": "https://localhost:8080/"
        },
        "id": "JQd9AgMbxkxO",
        "outputId": "abbb8db4-25e3-4c64-e077-43a6d76960d6"
      },
      "outputs": [
        {
          "output_type": "stream",
          "name": "stdout",
          "text": [
            "torch.Size([1, 6, 13, 13])\n"
          ]
        }
      ],
      "source": [
        "# Run the first pooling layer\n",
        "x = F.max_pool2d(x, 2, 2)\n",
        "print(x.shape)"
      ]
    },
    {
      "cell_type": "code",
      "execution_count": null,
      "metadata": {
        "colab": {
          "base_uri": "https://localhost:8080/"
        },
        "id": "GJHfLdQ3xkxO",
        "outputId": "74a47d61-9d30-4fdc-855f-0f8b8b52fb2d"
      },
      "outputs": [
        {
          "output_type": "stream",
          "name": "stdout",
          "text": [
            "torch.Size([1, 16, 11, 11])\n"
          ]
        }
      ],
      "source": [
        "# Perform the second convolution/activation\n",
        "x = F.relu(conv2(x)) # rectified linear unit activation function\n",
        "print(x.shape)"
      ]
    },
    {
      "cell_type": "code",
      "execution_count": null,
      "metadata": {
        "colab": {
          "base_uri": "https://localhost:8080/"
        },
        "id": "TGd1AKY9xkxP",
        "outputId": "748143c9-8665-4db1-b761-7c91cfc18481"
      },
      "outputs": [
        {
          "output_type": "stream",
          "name": "stdout",
          "text": [
            "torch.Size([1, 16, 5, 5])\n"
          ]
        }
      ],
      "source": [
        "# Run the second pooling layer\n",
        "x = F.max_pool2d(x, 2, 2)\n",
        "print(x.shape)"
      ]
    },
    {
      "cell_type": "code",
      "execution_count": null,
      "metadata": {
        "colab": {
          "base_uri": "https://localhost:8080/"
        },
        "id": "uXBOU85ZxkxP",
        "outputId": "9ce241c8-eaaf-486c-a123-441c578c5074"
      },
      "outputs": [
        {
          "output_type": "stream",
          "name": "stdout",
          "text": [
            "torch.Size([1, 400])\n"
          ]
        }
      ],
      "source": [
        "# Flatten the data\n",
        "x = x.view(-1, 5*5*16)\n",
        "print(x.shape)"
      ]
    },
    {
      "cell_type": "markdown",
      "metadata": {
        "id": "dB9HYsPGxkxP"
      },
      "source": [
        "<div class=\"alert alert-danger\"><strong>This is how the convolution output is passed into the fully connected layers.</strong></div>\n",
        "\n",
        "Now let's run the code."
      ]
    },
    {
      "cell_type": "code",
      "execution_count": null,
      "metadata": {
        "id": "xr6P1vH5xkxP"
      },
      "outputs": [],
      "source": [
        "class ConvolutionalNetwork(nn.Module):\n",
        "    def __init__(self):\n",
        "        super().__init__()\n",
        "        self.conv1 = nn.Conv2d(1, 6, 3, 1)\n",
        "        self.conv2 = nn.Conv2d(6, 16, 3, 1)\n",
        "        self.fc1 = nn.Linear(5*5*16, 120)\n",
        "        self.fc2 = nn.Linear(120, 84)\n",
        "        self.fc3 = nn.Linear(84,10)\n",
        "\n",
        "    def forward(self, X):\n",
        "        X = F.relu(self.conv1(X))\n",
        "        X = F.max_pool2d(X, 2, 2) # 2 * 2 kernal for the stride of 2\n",
        "        X = F.relu(self.conv2(X))\n",
        "        X = F.max_pool2d(X, 2, 2)\n",
        "        X = X.view(-1, 5*5*16)\n",
        "        X = F.relu(self.fc1(X))\n",
        "        X = F.relu(self.fc2(X))\n",
        "        X = self.fc3(X)\n",
        "        return F.log_softmax(X, dim=1)"
      ]
    },
    {
      "cell_type": "code",
      "execution_count": null,
      "metadata": {
        "colab": {
          "base_uri": "https://localhost:8080/"
        },
        "id": "gSxmhlwwxkxP",
        "outputId": "e56384ec-6549-47ae-eaf7-347989e8b0b1"
      },
      "outputs": [
        {
          "output_type": "execute_result",
          "data": {
            "text/plain": [
              "ConvolutionalNetwork(\n",
              "  (conv1): Conv2d(1, 6, kernel_size=(3, 3), stride=(1, 1))\n",
              "  (conv2): Conv2d(6, 16, kernel_size=(3, 3), stride=(1, 1))\n",
              "  (fc1): Linear(in_features=400, out_features=120, bias=True)\n",
              "  (fc2): Linear(in_features=120, out_features=84, bias=True)\n",
              "  (fc3): Linear(in_features=84, out_features=10, bias=True)\n",
              ")"
            ]
          },
          "metadata": {},
          "execution_count": 16
        }
      ],
      "source": [
        "torch.manual_seed(42)\n",
        "model = ConvolutionalNetwork()\n",
        "model"
      ]
    },
    {
      "cell_type": "markdown",
      "metadata": {
        "id": "jNPD9fnkxkxP"
      },
      "source": [
        "Including the bias terms for each layer, the total number of parameters being trained is:<br>\n",
        "\n",
        "$\\quad\\begin{split}(1\\times6\\times3\\times3)+6+(6\\times16\\times3\\times3)+16+(400\\times120)+120+(120\\times84)+84+(84\\times10)+10 &=\\\\\n",
        "54+6+864+16+48000+120+10080+84+840+10 &= 60,074\\end{split}$<br>"
      ]
    },
    {
      "cell_type": "code",
      "execution_count": null,
      "metadata": {
        "id": "T8t53Ae0xkxQ"
      },
      "outputs": [],
      "source": [
        "def count_parameters(model):\n",
        "    params = [p.numel() for p in model.parameters() if p.requires_grad]\n",
        "    for item in params:\n",
        "        print(f'{item:>6}')\n",
        "    print(f'______\\n{sum(params):>6}')"
      ]
    },
    {
      "cell_type": "code",
      "execution_count": null,
      "metadata": {
        "colab": {
          "base_uri": "https://localhost:8080/"
        },
        "id": "i40IgWLvxkxQ",
        "outputId": "dda995c6-3cc8-4335-e27f-82d499d247cf"
      },
      "outputs": [
        {
          "output_type": "stream",
          "name": "stdout",
          "text": [
            "    54\n",
            "     6\n",
            "   864\n",
            "    16\n",
            " 48000\n",
            "   120\n",
            " 10080\n",
            "    84\n",
            "   840\n",
            "    10\n",
            "______\n",
            " 60074\n"
          ]
        }
      ],
      "source": [
        "count_parameters(model)"
      ]
    },
    {
      "cell_type": "markdown",
      "metadata": {
        "id": "5jYEO3KPxkxQ"
      },
      "source": [
        "## Define loss function & optimizer"
      ]
    },
    {
      "cell_type": "code",
      "execution_count": null,
      "metadata": {
        "id": "6zR8yjZ1xkxQ"
      },
      "outputs": [],
      "source": [
        "criterion = nn.CrossEntropyLoss()\n",
        "optimizer = torch.optim.Adam(model.parameters(), lr=0.001)"
      ]
    },
    {
      "cell_type": "markdown",
      "metadata": {
        "id": "vAtiL_znxkxQ"
      },
      "source": [
        "## Train the model\n",
        "This time we'll feed the data directly into the model without flattening it first."
      ]
    },
    {
      "cell_type": "code",
      "execution_count": null,
      "metadata": {
        "colab": {
          "base_uri": "https://localhost:8080/"
        },
        "id": "KAbf-7uFxkxQ",
        "outputId": "6b69b27c-9592-430c-cda9-9cac6e2f7a18"
      },
      "outputs": [
        {
          "output_type": "stream",
          "name": "stdout",
          "text": [
            "epoch:  0  batch:  600 [  6000/60000]  loss: 0.04055627  accuracy:  78.417%\n",
            "epoch:  0  batch: 1200 [ 12000/60000]  loss: 0.08253475  accuracy:  85.800%\n",
            "epoch:  0  batch: 1800 [ 18000/60000]  loss: 0.36470491  accuracy:  88.689%\n",
            "epoch:  0  batch: 2400 [ 24000/60000]  loss: 0.01825025  accuracy:  90.525%\n",
            "epoch:  0  batch: 3000 [ 30000/60000]  loss: 0.00806704  accuracy:  91.650%\n",
            "epoch:  0  batch: 3600 [ 36000/60000]  loss: 0.00116694  accuracy:  92.503%\n",
            "epoch:  0  batch: 4200 [ 42000/60000]  loss: 0.52552539  accuracy:  93.152%\n",
            "epoch:  0  batch: 4800 [ 48000/60000]  loss: 0.03260820  accuracy:  93.617%\n",
            "epoch:  0  batch: 5400 [ 54000/60000]  loss: 0.00746816  accuracy:  94.028%\n",
            "epoch:  0  batch: 6000 [ 60000/60000]  loss: 0.03889676  accuracy:  94.340%\n",
            "epoch:  1  batch:  600 [  6000/60000]  loss: 0.03282820  accuracy:  97.817%\n",
            "epoch:  1  batch: 1200 [ 12000/60000]  loss: 0.04554177  accuracy:  97.867%\n",
            "epoch:  1  batch: 1800 [ 18000/60000]  loss: 0.00578480  accuracy:  97.939%\n",
            "epoch:  1  batch: 2400 [ 24000/60000]  loss: 0.02235614  accuracy:  97.879%\n",
            "epoch:  1  batch: 3000 [ 30000/60000]  loss: 0.21643038  accuracy:  97.897%\n",
            "epoch:  1  batch: 3600 [ 36000/60000]  loss: 0.00501452  accuracy:  97.906%\n",
            "epoch:  1  batch: 4200 [ 42000/60000]  loss: 0.00045869  accuracy:  97.974%\n",
            "epoch:  1  batch: 4800 [ 48000/60000]  loss: 0.00192951  accuracy:  97.996%\n",
            "epoch:  1  batch: 5400 [ 54000/60000]  loss: 0.00085962  accuracy:  98.004%\n",
            "epoch:  1  batch: 6000 [ 60000/60000]  loss: 0.08304359  accuracy:  98.007%\n",
            "epoch:  2  batch:  600 [  6000/60000]  loss: 0.00063734  accuracy:  98.683%\n",
            "epoch:  2  batch: 1200 [ 12000/60000]  loss: 0.00153934  accuracy:  98.542%\n",
            "epoch:  2  batch: 1800 [ 18000/60000]  loss: 0.00128017  accuracy:  98.478%\n",
            "epoch:  2  batch: 2400 [ 24000/60000]  loss: 0.00139678  accuracy:  98.533%\n",
            "epoch:  2  batch: 3000 [ 30000/60000]  loss: 0.30444741  accuracy:  98.467%\n",
            "epoch:  2  batch: 3600 [ 36000/60000]  loss: 0.01445190  accuracy:  98.461%\n",
            "epoch:  2  batch: 4200 [ 42000/60000]  loss: 0.02198282  accuracy:  98.483%\n",
            "epoch:  2  batch: 4800 [ 48000/60000]  loss: 0.00078029  accuracy:  98.496%\n",
            "epoch:  2  batch: 5400 [ 54000/60000]  loss: 0.00168332  accuracy:  98.498%\n",
            "epoch:  2  batch: 6000 [ 60000/60000]  loss: 0.00020764  accuracy:  98.492%\n",
            "epoch:  3  batch:  600 [  6000/60000]  loss: 0.00079474  accuracy:  98.883%\n",
            "epoch:  3  batch: 1200 [ 12000/60000]  loss: 0.00203867  accuracy:  99.017%\n",
            "epoch:  3  batch: 1800 [ 18000/60000]  loss: 0.00046899  accuracy:  99.028%\n",
            "epoch:  3  batch: 2400 [ 24000/60000]  loss: 0.00021816  accuracy:  98.938%\n",
            "epoch:  3  batch: 3000 [ 30000/60000]  loss: 0.03142365  accuracy:  98.933%\n",
            "epoch:  3  batch: 3600 [ 36000/60000]  loss: 0.00734946  accuracy:  98.875%\n",
            "epoch:  3  batch: 4200 [ 42000/60000]  loss: 0.00061036  accuracy:  98.893%\n",
            "epoch:  3  batch: 4800 [ 48000/60000]  loss: 0.13828447  accuracy:  98.902%\n",
            "epoch:  3  batch: 5400 [ 54000/60000]  loss: 0.00074584  accuracy:  98.898%\n",
            "epoch:  3  batch: 6000 [ 60000/60000]  loss: 0.02092968  accuracy:  98.897%\n",
            "epoch:  4  batch:  600 [  6000/60000]  loss: 0.00093785  accuracy:  99.250%\n",
            "epoch:  4  batch: 1200 [ 12000/60000]  loss: 0.19402172  accuracy:  99.158%\n",
            "epoch:  4  batch: 1800 [ 18000/60000]  loss: 0.00067582  accuracy:  99.067%\n",
            "epoch:  4  batch: 2400 [ 24000/60000]  loss: 0.00019682  accuracy:  99.067%\n",
            "epoch:  4  batch: 3000 [ 30000/60000]  loss: 0.00540381  accuracy:  99.033%\n",
            "epoch:  4  batch: 3600 [ 36000/60000]  loss: 0.00058351  accuracy:  99.056%\n",
            "epoch:  4  batch: 4200 [ 42000/60000]  loss: 0.00117376  accuracy:  99.069%\n",
            "epoch:  4  batch: 4800 [ 48000/60000]  loss: 0.00185656  accuracy:  99.017%\n",
            "epoch:  4  batch: 5400 [ 54000/60000]  loss: 0.00024844  accuracy:  98.993%\n",
            "epoch:  4  batch: 6000 [ 60000/60000]  loss: 0.00652279  accuracy:  99.002%\n",
            "\n",
            "Duration: 230 seconds\n"
          ]
        }
      ],
      "source": [
        "import time\n",
        "start_time = time.time()\n",
        "\n",
        "epochs = 5\n",
        "train_losses = []\n",
        "test_losses = []\n",
        "train_correct = []\n",
        "test_correct = []\n",
        "\n",
        "for i in range(epochs):\n",
        "    trn_corr = 0\n",
        "    tst_corr = 0\n",
        "\n",
        "    # Run the training batches\n",
        "    for b, (X_train, y_train) in enumerate(train_loader):\n",
        "        b+=1\n",
        "\n",
        "        # Apply the model\n",
        "        y_pred = model(X_train)  # we don't flatten X-train here\n",
        "        loss = criterion(y_pred, y_train)\n",
        "\n",
        "        # Tally the number of correct predictions\n",
        "        predicted = torch.max(y_pred.data, 1)[1]\n",
        "        batch_corr = (predicted == y_train).sum()\n",
        "        trn_corr += batch_corr\n",
        "\n",
        "        # Update parameters\n",
        "        optimizer.zero_grad()\n",
        "        loss.backward()\n",
        "        optimizer.step()\n",
        "\n",
        "        # Print interim results\n",
        "        if b%600 == 0:\n",
        "            print(f'epoch: {i:2}  batch: {b:4} [{10*b:6}/60000]  loss: {loss.item():10.8f}  \\\n",
        "accuracy: {trn_corr.item()*100/(10*b):7.3f}%')\n",
        "\n",
        "    train_losses.append(loss.item())\n",
        "    train_correct.append(trn_corr.item())\n",
        "\n",
        "    # Run the testing batches\n",
        "    with torch.no_grad():\n",
        "        for b, (X_test, y_test) in enumerate(test_loader):\n",
        "\n",
        "            # Apply the model\n",
        "            y_val = model(X_test)\n",
        "\n",
        "            # Tally the number of correct predictions\n",
        "            predicted = torch.max(y_val.data, 1)[1]\n",
        "            tst_corr += (predicted == y_test).sum()\n",
        "\n",
        "    loss = criterion(y_val, y_test)\n",
        "    test_losses.append(loss)\n",
        "    test_correct.append(tst_corr)\n",
        "\n",
        "print(f'\\nDuration: {time.time() - start_time:.0f} seconds') # print the time elapsed"
      ]
    },
    {
      "cell_type": "markdown",
      "metadata": {
        "id": "7EFCbduwxkxQ"
      },
      "source": [
        "## Plot the loss and accuracy comparisons"
      ]
    },
    {
      "cell_type": "code",
      "execution_count": null,
      "metadata": {
        "colab": {
          "base_uri": "https://localhost:8080/",
          "height": 452
        },
        "id": "O57nu-zyxkxR",
        "outputId": "508d4111-9f61-4762-84ee-f293070332a3"
      },
      "outputs": [
        {
          "output_type": "display_data",
          "data": {
            "text/plain": [
              "<Figure size 640x480 with 1 Axes>"
            ],
            "image/png": "[encoded data removed]"
          },
          "metadata": {}
        }
      ],
      "source": [
        "plt.plot(train_losses, label='training loss')\n",
        "plt.plot(test_losses, label='validation loss')\n",
        "plt.title('Loss at the end of each epoch')\n",
        "plt.legend();"
      ]
    },
    {
      "cell_type": "code",
      "execution_count": null,
      "metadata": {
        "colab": {
          "base_uri": "https://localhost:8080/"
        },
        "id": "JdQiw0cxxkxR",
        "outputId": "28696e72-9d1d-4d2d-d285-ee6cef2ff05d"
      },
      "outputs": [
        {
          "output_type": "execute_result",
          "data": {
            "text/plain": [
              "[tensor(0.0036),\n",
              " tensor(0.0037),\n",
              " tensor(0.0016),\n",
              " tensor(0.0003),\n",
              " tensor(3.6928e-05)]"
            ]
          },
          "metadata": {},
          "execution_count": 22
        }
      ],
      "source": [
        "test_losses"
      ]
    },
    {
      "cell_type": "markdown",
      "metadata": {
        "id": "sXiMb_YexkxR"
      },
      "source": [
        "While there may be some overfitting of the training data, there is far less than we saw with the ANN model."
      ]
    },
    {
      "cell_type": "code",
      "execution_count": null,
      "metadata": {
        "colab": {
          "base_uri": "https://localhost:8080/",
          "height": 452
        },
        "id": "7cVz6qMFxkxR",
        "outputId": "337541fe-0819-46d4-a1c6-e84f93a717ee"
      },
      "outputs": [
        {
          "output_type": "display_data",
          "data": {
            "text/plain": [
              "<Figure size 640x480 with 1 Axes>"
            ],
            "image/png": "[encoded data removed]"
          },
          "metadata": {}
        }
      ],
      "source": [
        "plt.plot([t/600 for t in train_correct], label='training accuracy')\n",
        "plt.plot([t/100 for t in test_correct], label='validation accuracy')\n",
        "plt.title('Accuracy at the end of each epoch')\n",
        "plt.legend();"
      ]
    },
    {
      "cell_type": "markdown",
      "metadata": {
        "id": "ccfn4VGGxkxR"
      },
      "source": [
        "## Evaluate Test Data"
      ]
    },
    {
      "cell_type": "code",
      "execution_count": null,
      "metadata": {
        "id": "3MQViOr-xkxR"
      },
      "outputs": [],
      "source": [
        "# Extract the data all at once, not in batches\n",
        "test_load_all = DataLoader(test_data, batch_size=10000, shuffle=False)"
      ]
    },
    {
      "cell_type": "code",
      "execution_count": null,
      "metadata": {
        "colab": {
          "base_uri": "https://localhost:8080/"
        },
        "id": "dyHy1aK6xkxR",
        "outputId": "346a8072-a19c-4cf2-9b72-2146bf405dc8"
      },
      "outputs": [
        {
          "output_type": "stream",
          "name": "stdout",
          "text": [
            "Test accuracy: 9889/10000 =  98.890%\n"
          ]
        }
      ],
      "source": [
        "with torch.no_grad():\n",
        "    correct = 0\n",
        "    for X_test, y_test in test_load_all:\n",
        "        y_val = model(X_test)  # we don't flatten the data this time\n",
        "        predicted = torch.max(y_val,1)[1]\n",
        "        correct += (predicted == y_test).sum()\n",
        "print(f'Test accuracy: {correct.item()}/{len(test_data)} = {correct.item()*100/(len(test_data)):7.3f}%')"
      ]
    },
    {
      "cell_type": "markdown",
      "source": [
        "So recall that our artificial neural network returned an accuracy of 97.24% after ten epochs. How ever it has to use upto 100,000 parameters and we used around 60,000. So doing better with less parameters"
      ],
      "metadata": {
        "id": "VOvawrikLD6a"
      }
    },
    {
      "cell_type": "markdown",
      "metadata": {
        "id": "zbj0W2tHxkxZ"
      },
      "source": [
        "Recall that our [784,120,84,10] ANN returned an accuracy of 97.25% after 10 epochs. And it used 105,214 parameters to our current 60,074."
      ]
    },
    {
      "cell_type": "markdown",
      "metadata": {
        "id": "goOpdbk2xkxa"
      },
      "source": [
        "## Display the confusion matrix"
      ]
    },
    {
      "cell_type": "code",
      "execution_count": null,
      "metadata": {
        "colab": {
          "base_uri": "https://localhost:8080/"
        },
        "id": "7ovpy-FAxkxa",
        "outputId": "5f0d6399-663f-458a-dcec-22330fec000c"
      },
      "outputs": [
        {
          "output_type": "stream",
          "name": "stdout",
          "text": [
            "[[   0    1    2    3    4    5    6    7    8    9]]\n",
            "\n",
            "[[ 977    3    1    0    0    2    4    1    4    0]\n",
            " [   0 1130    2    0    0    0    1    4    0    3]\n",
            " [   0    1 1022    0    0    0    0    4    2    0]\n",
            " [   0    0    3 1007    0    7    0    2    2    2]\n",
            " [   0    0    1    0  971    0    1    0    0    5]\n",
            " [   0    0    0    1    0  879    7    0    1    5]\n",
            " [   1    1    0    0    4    2  944    0    1    0]\n",
            " [   1    0    3    0    0    0    0 1013    1    2]\n",
            " [   1    0    0    2    1    1    1    1  962    8]\n",
            " [   0    0    0    0    6    1    0    3    1  984]]\n"
          ]
        }
      ],
      "source": [
        "# print a row of values for reference\n",
        "np.set_printoptions(formatter=dict(int=lambda x: f'{x:4}'))\n",
        "print(np.arange(10).reshape(1,10))\n",
        "print()\n",
        "\n",
        "# print the confusion matrix\n",
        "print(confusion_matrix(predicted.view(-1), y_test.view(-1)))"
      ]
    },
    {
      "cell_type": "markdown",
      "metadata": {
        "id": "BIJ01-8vxkxa"
      },
      "source": [
        "## Examine the misses\n",
        "We can track the index positions of \"missed\" predictions, and extract the corresponding image and label. We'll do this in batches to save screen space."
      ]
    },
    {
      "cell_type": "code",
      "execution_count": null,
      "metadata": {
        "colab": {
          "base_uri": "https://localhost:8080/"
        },
        "id": "h5FuulHExkxa",
        "outputId": "a08162d0-6297-47e3-fc3d-d9fbabe97727"
      },
      "outputs": [
        {
          "output_type": "execute_result",
          "data": {
            "text/plain": [
              "111"
            ]
          },
          "metadata": {},
          "execution_count": 27
        }
      ],
      "source": [
        "misses = np.array([])\n",
        "for i in range(len(predicted.view(-1))):\n",
        "    if predicted[i] != y_test[i]:\n",
        "        misses = np.append(misses,i).astype('int64')\n",
        "\n",
        "# Display the number of misses\n",
        "len(misses)"
      ]
    },
    {
      "cell_type": "code",
      "execution_count": null,
      "metadata": {
        "colab": {
          "base_uri": "https://localhost:8080/"
        },
        "id": "gFD7OZtaxkxa",
        "outputId": "84924b05-0766-4c9b-d4f4-cb0d00f7fd4c"
      },
      "outputs": [
        {
          "output_type": "execute_result",
          "data": {
            "text/plain": [
              "array([  18,   62,  184,  247,  320,  321,  340,  359,  445,  448])"
            ]
          },
          "metadata": {},
          "execution_count": 28
        }
      ],
      "source": [
        "# Display the first 10 index positions\n",
        "misses[:10]"
      ]
    },
    {
      "cell_type": "code",
      "execution_count": null,
      "metadata": {
        "id": "AnF8biN8xkxa"
      },
      "outputs": [],
      "source": [
        "# Set up an iterator to feed batched rows\n",
        "r = 12   # row size\n",
        "row = iter(np.array_split(misses,len(misses)//r+1))"
      ]
    },
    {
      "cell_type": "markdown",
      "metadata": {
        "id": "Ptg2abWWxkxa"
      },
      "source": [
        "Now that everything is set up, run and re-run the cell below to view all of the missed predictions.<br>\n",
        "Use <kbd>Ctrl+Enter</kbd> to remain on the cell between runs. You'll see a <tt>StopIteration</tt> once all the misses have been seen."
      ]
    },
    {
      "cell_type": "code",
      "execution_count": null,
      "metadata": {
        "colab": {
          "base_uri": "https://localhost:8080/",
          "height": 185
        },
        "id": "t3QCnUDZxkxb",
        "outputId": "2dbe97f5-363c-4841-810a-da0bc9822534"
      },
      "outputs": [
        {
          "output_type": "stream",
          "name": "stdout",
          "text": [
            "Index: [  18   62  184  247  320  321  340  359  445  448  495  582]\n",
            "Label: [   3    9    8    4    9    2    5    9    6    9    8    8]\n",
            "Guess: [   8    5    3    6    8    7    3    4    0    8    0    2]\n"
          ]
        },
        {
          "output_type": "display_data",
          "data": {
            "text/plain": [
              "<Figure size 1000x400 with 1 Axes>"
            ],
            "image/png": "[encoded data removed]"
          },
          "metadata": {}
        }
      ],
      "source": [
        "nextrow = next(row)\n",
        "print(\"Index:\", nextrow)\n",
        "print(\"Label:\", y_test.index_select(0,torch.tensor(nextrow)).numpy())\n",
        "print(\"Guess:\", predicted.index_select(0,torch.tensor(nextrow)).numpy())\n",
        "\n",
        "images = X_test.index_select(0,torch.tensor(nextrow))\n",
        "im = make_grid(images, nrow=r)\n",
        "plt.figure(figsize=(10,4))\n",
        "plt.imshow(np.transpose(im.numpy(), (1, 2, 0)));"
      ]
    },
    {
      "cell_type": "markdown",
      "metadata": {
        "id": "hMD2d-Clxkxb"
      },
      "source": [
        "## Run a new image through the model\n",
        "We can also pass a single image through the model to obtain a prediction.\n",
        "Pick a number from 0 to 9999, assign it to \"x\", and we'll use that value to select a number from the MNIST test set."
      ]
    },
    {
      "cell_type": "code",
      "execution_count": null,
      "metadata": {
        "colab": {
          "base_uri": "https://localhost:8080/",
          "height": 141
        },
        "id": "2_g1t1Vmxkxb",
        "outputId": "fb44c4ba-9c3a-4d4c-cf13-8d5e62e60f2e"
      },
      "outputs": [
        {
          "output_type": "display_data",
          "data": {
            "text/plain": [
              "<Figure size 100x100 with 1 Axes>"
            ],
            "image/png": "[encoded data removed]"
          },
          "metadata": {}
        }
      ],
      "source": [
        "x = 2019\n",
        "plt.figure(figsize=(1,1))\n",
        "plt.imshow(test_data[x][0].reshape((28,28)), cmap=\"gist_yarg\");"
      ]
    },
    {
      "cell_type": "code",
      "execution_count": null,
      "metadata": {
        "colab": {
          "base_uri": "https://localhost:8080/"
        },
        "id": "YVJ8GY3pxkxb",
        "outputId": "7b78fd93-3f88-486b-d2d6-744a3697b6fa"
      },
      "outputs": [
        {
          "output_type": "stream",
          "name": "stdout",
          "text": [
            "Predicted value: 9\n"
          ]
        }
      ],
      "source": [
        "model.eval()\n",
        "with torch.no_grad():\n",
        "    new_pred = model(test_data[x][0].view(1,1,28,28)).argmax()\n",
        "print(\"Predicted value:\",new_pred.item())"
      ]
    }
  ],
  "metadata": {
    "kernelspec": {
      "display_name": "Python 3",
      "language": "python",
      "name": "python3"
    },
    "language_info": {
      "codemirror_mode": {
        "name": "ipython",
        "version": 3
      },
      "file_extension": ".py",
      "mimetype": "text/x-python",
      "name": "python",
      "nbconvert_exporter": "python",
      "pygments_lexer": "ipython3",
      "version": "3.8.0"
    },
    "colab": {
      "provenance": []
    }
  },
  "nbformat": 4,
  "nbformat_minor": 0
}